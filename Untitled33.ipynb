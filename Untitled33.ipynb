{
 "cells": [
  {
   "cell_type": "code",
   "execution_count": 1,
   "id": "a77007dc",
   "metadata": {},
   "outputs": [
    {
     "name": "stderr",
     "output_type": "stream",
     "text": [
      "C:\\Users\\Wdtum\\anaconda3\\lib\\site-packages\\numpy\\_distributor_init.py:30: UserWarning: loaded more than 1 DLL from .libs:\n",
      "C:\\Users\\Wdtum\\anaconda3\\lib\\site-packages\\numpy\\.libs\\libopenblas.4SP5SUA7CBGXUEOC35YP2ASOICYYEQZZ.gfortran-win_amd64.dll\n",
      "C:\\Users\\Wdtum\\anaconda3\\lib\\site-packages\\numpy\\.libs\\libopenblas64__v0.3.21-gcc_10_3_0.dll\n",
      "  warnings.warn(\"loaded more than 1 DLL from .libs:\"\n"
     ]
    }
   ],
   "source": [
    "import pandas as pd\n",
    "import numpy as np\n",
    "import math\n",
    "import matplotlib.pyplot as plt"
   ]
  },
  {
   "cell_type": "code",
   "execution_count": 2,
   "id": "6aba9124",
   "metadata": {},
   "outputs": [],
   "source": [
    "url=r\"C:\\Users\\Wdtum\\OneDrive\\Документы\\dz_terver.xlsx\"\n",
    "df=pd.read_excel(url)"
   ]
  },
  {
   "cell_type": "code",
   "execution_count": 3,
   "id": "d189a981",
   "metadata": {},
   "outputs": [
    {
     "data": {
      "text/html": [
       "<div>\n",
       "<style scoped>\n",
       "    .dataframe tbody tr th:only-of-type {\n",
       "        vertical-align: middle;\n",
       "    }\n",
       "\n",
       "    .dataframe tbody tr th {\n",
       "        vertical-align: top;\n",
       "    }\n",
       "\n",
       "    .dataframe thead th {\n",
       "        text-align: right;\n",
       "    }\n",
       "</style>\n",
       "<table border=\"1\" class=\"dataframe\">\n",
       "  <thead>\n",
       "    <tr style=\"text-align: right;\">\n",
       "      <th></th>\n",
       "      <th>X</th>\n",
       "    </tr>\n",
       "  </thead>\n",
       "  <tbody>\n",
       "    <tr>\n",
       "      <th>0</th>\n",
       "      <td>15.6</td>\n",
       "    </tr>\n",
       "    <tr>\n",
       "      <th>1</th>\n",
       "      <td>15.8</td>\n",
       "    </tr>\n",
       "    <tr>\n",
       "      <th>2</th>\n",
       "      <td>15.7</td>\n",
       "    </tr>\n",
       "    <tr>\n",
       "      <th>3</th>\n",
       "      <td>15.8</td>\n",
       "    </tr>\n",
       "    <tr>\n",
       "      <th>4</th>\n",
       "      <td>15.7</td>\n",
       "    </tr>\n",
       "  </tbody>\n",
       "</table>\n",
       "</div>"
      ],
      "text/plain": [
       "      X\n",
       "0  15.6\n",
       "1  15.8\n",
       "2  15.7\n",
       "3  15.8\n",
       "4  15.7"
      ]
     },
     "execution_count": 3,
     "metadata": {},
     "output_type": "execute_result"
    }
   ],
   "source": [
    "df.head()"
   ]
  },
  {
   "cell_type": "code",
   "execution_count": 4,
   "id": "fa798040",
   "metadata": {},
   "outputs": [
    {
     "name": "stdout",
     "output_type": "stream",
     "text": [
      "<class 'pandas.core.frame.DataFrame'>\n",
      "RangeIndex: 127 entries, 0 to 126\n",
      "Data columns (total 1 columns):\n",
      " #   Column  Non-Null Count  Dtype  \n",
      "---  ------  --------------  -----  \n",
      " 0   X       127 non-null    float64\n",
      "dtypes: float64(1)\n",
      "memory usage: 1.1 KB\n"
     ]
    }
   ],
   "source": [
    "df.info()"
   ]
  },
  {
   "cell_type": "code",
   "execution_count": 5,
   "id": "a6627198",
   "metadata": {},
   "outputs": [
    {
     "data": {
      "text/html": [
       "<div>\n",
       "<style scoped>\n",
       "    .dataframe tbody tr th:only-of-type {\n",
       "        vertical-align: middle;\n",
       "    }\n",
       "\n",
       "    .dataframe tbody tr th {\n",
       "        vertical-align: top;\n",
       "    }\n",
       "\n",
       "    .dataframe thead th {\n",
       "        text-align: right;\n",
       "    }\n",
       "</style>\n",
       "<table border=\"1\" class=\"dataframe\">\n",
       "  <thead>\n",
       "    <tr style=\"text-align: right;\">\n",
       "      <th></th>\n",
       "      <th>X</th>\n",
       "    </tr>\n",
       "  </thead>\n",
       "  <tbody>\n",
       "    <tr>\n",
       "      <th>count</th>\n",
       "      <td>127.000000</td>\n",
       "    </tr>\n",
       "    <tr>\n",
       "      <th>mean</th>\n",
       "      <td>15.726772</td>\n",
       "    </tr>\n",
       "    <tr>\n",
       "      <th>std</th>\n",
       "      <td>0.230406</td>\n",
       "    </tr>\n",
       "    <tr>\n",
       "      <th>min</th>\n",
       "      <td>15.000000</td>\n",
       "    </tr>\n",
       "    <tr>\n",
       "      <th>25%</th>\n",
       "      <td>15.600000</td>\n",
       "    </tr>\n",
       "    <tr>\n",
       "      <th>50%</th>\n",
       "      <td>15.700000</td>\n",
       "    </tr>\n",
       "    <tr>\n",
       "      <th>75%</th>\n",
       "      <td>15.900000</td>\n",
       "    </tr>\n",
       "    <tr>\n",
       "      <th>max</th>\n",
       "      <td>16.300000</td>\n",
       "    </tr>\n",
       "  </tbody>\n",
       "</table>\n",
       "</div>"
      ],
      "text/plain": [
       "                X\n",
       "count  127.000000\n",
       "mean    15.726772\n",
       "std      0.230406\n",
       "min     15.000000\n",
       "25%     15.600000\n",
       "50%     15.700000\n",
       "75%     15.900000\n",
       "max     16.300000"
      ]
     },
     "execution_count": 5,
     "metadata": {},
     "output_type": "execute_result"
    }
   ],
   "source": [
    "df.describe()"
   ]
  },
  {
   "cell_type": "code",
   "execution_count": 6,
   "id": "c27b6da6",
   "metadata": {},
   "outputs": [],
   "source": [
    "import statistics "
   ]
  },
  {
   "cell_type": "code",
   "execution_count": 7,
   "id": "49f41b61",
   "metadata": {},
   "outputs": [
    {
     "name": "stdout",
     "output_type": "stream",
     "text": [
      "15.7\n",
      "15.7\n"
     ]
    }
   ],
   "source": [
    "print(statistics.median(df['X']))\n",
    "print(statistics.mode(df['X']))"
   ]
  },
  {
   "cell_type": "code",
   "execution_count": null,
   "id": "bcbe51ea",
   "metadata": {},
   "outputs": [],
   "source": [
    "\n"
   ]
  },
  {
   "cell_type": "code",
   "execution_count": 9,
   "id": "1104fb13",
   "metadata": {},
   "outputs": [
    {
     "name": "stdout",
     "output_type": "stream",
     "text": [
      "52\n"
     ]
    }
   ],
   "source": [
    "print(df['X'].between(15.7,15.8).sum())"
   ]
  },
  {
   "cell_type": "code",
   "execution_count": 61,
   "id": "fca71c29",
   "metadata": {},
   "outputs": [
    {
     "name": "stdout",
     "output_type": "stream",
     "text": [
      "Количество значений в каждом интервале:\n",
      "15.0-15.1: 2\n",
      "15.1-15.2: 1\n",
      "15.2-15.3: 0\n",
      "15.3-15.4: 4\n",
      "15.4-15.5: 6\n",
      "15.5-15.6: 10\n",
      "15.6-15.7: 17\n",
      "15.7-15.8: 31\n",
      "15.8-15.9: 21\n",
      "15.9-16.0: 15\n",
      "16.0-16.1: 10\n",
      "16.1-16.2: 7\n",
      "16.2-16.3: 2\n"
     ]
    }
   ],
   "source": [
    "interval_counts = {}\n",
    "l=[]\n",
    "interval_mean=[]\n",
    "# Цикл для подсчета количества значений в каждом интервале\n",
    "for i in range(150, 163):  # Умножаем на 10, чтобы привести к целым числам и работать со значениями 150-163\n",
    "    lower_bound = i / 10\n",
    "    upper_bound = (i + 1) / 10\n",
    "    #count = df['X'].between(lower_bound, upper_bound).sum()\n",
    "    count_bool=(df['X'].values>=lower_bound)&(df['X'].values<upper_bound)\n",
    "    count=sum(int(x) for x in count_bool)\n",
    "    interval_mean.append((lower_bound+upper_bound)/2)\n",
    "    l.append(count)\n",
    "    interval_counts[f'{lower_bound}-{upper_bound}'] = count\n",
    "\n",
    "print(\"Количество значений в каждом интервале:\")\n",
    "for interval, count in interval_counts.items():\n",
    "    print(f\"{interval}: {count}\")"
   ]
  },
  {
   "cell_type": "code",
   "execution_count": 62,
   "id": "5d3a405d",
   "metadata": {},
   "outputs": [
    {
     "data": {
      "text/plain": [
       "[2, 1, 0, 4, 6, 10, 17, 31, 21, 15, 10, 7, 3]"
      ]
     },
     "execution_count": 62,
     "metadata": {},
     "output_type": "execute_result"
    }
   ],
   "source": [
    "l[12]=3\n",
    "l"
   ]
  },
  {
   "cell_type": "code",
   "execution_count": 13,
   "id": "283469e5",
   "metadata": {},
   "outputs": [],
   "source": [
    "result=[x/127 for x in l]"
   ]
  },
  {
   "cell_type": "code",
   "execution_count": 14,
   "id": "4249b597",
   "metadata": {},
   "outputs": [
    {
     "data": {
      "text/plain": [
       "[0.015748031496062992,\n",
       " 0.007874015748031496,\n",
       " 0.0,\n",
       " 0.031496062992125984,\n",
       " 0.047244094488188976,\n",
       " 0.07874015748031496,\n",
       " 0.13385826771653545,\n",
       " 0.2440944881889764,\n",
       " 0.16535433070866143,\n",
       " 0.11811023622047244,\n",
       " 0.07874015748031496,\n",
       " 0.05511811023622047,\n",
       " 0.023622047244094488]"
      ]
     },
     "execution_count": 14,
     "metadata": {},
     "output_type": "execute_result"
    }
   ],
   "source": [
    "result"
   ]
  },
  {
   "cell_type": "code",
   "execution_count": 15,
   "id": "90f26882",
   "metadata": {},
   "outputs": [
    {
     "data": {
      "text/plain": [
       "[15.05,\n",
       " 15.149999999999999,\n",
       " 15.25,\n",
       " 15.350000000000001,\n",
       " 15.45,\n",
       " 15.55,\n",
       " 15.649999999999999,\n",
       " 15.75,\n",
       " 15.850000000000001,\n",
       " 15.95,\n",
       " 16.05,\n",
       " 16.15,\n",
       " 16.25]"
      ]
     },
     "execution_count": 15,
     "metadata": {},
     "output_type": "execute_result"
    }
   ],
   "source": [
    "interval_mean"
   ]
  },
  {
   "cell_type": "code",
   "execution_count": 16,
   "id": "b8e550ea",
   "metadata": {},
   "outputs": [],
   "source": [
    "accum_freq=[2,3,3,7,13,23,40,71,92,107,117,124,127]"
   ]
  },
  {
   "cell_type": "code",
   "execution_count": 17,
   "id": "6cd294c3",
   "metadata": {},
   "outputs": [
    {
     "data": {
      "text/plain": [
       "[<matplotlib.lines.Line2D at 0x1d5b8f2c6a0>]"
      ]
     },
     "execution_count": 17,
     "metadata": {},
     "output_type": "execute_result"
    },
    {
     "data": {
      "image/png": "[encoded data removed]",
      "text/plain": [
       "<Figure size 1200x700 with 1 Axes>"
      ]
     },
     "metadata": {},
     "output_type": "display_data"
    }
   ],
   "source": [
    "plt.figure(figsize=(12,7))\n",
    "plt.plot(interval_mean,l,'o-r')"
   ]
  },
  {
   "cell_type": "code",
   "execution_count": 18,
   "id": "dcea0c4e",
   "metadata": {},
   "outputs": [
    {
     "data": {
      "text/plain": [
       "[<matplotlib.lines.Line2D at 0x1d5b8f6a550>]"
      ]
     },
     "execution_count": 18,
     "metadata": {},
     "output_type": "execute_result"
    },
    {
     "data": {
      "image/png": "[encoded data removed]",
      "text/plain": [
       "<Figure size 800x500 with 1 Axes>"
      ]
     },
     "metadata": {},
     "output_type": "display_data"
    }
   ],
   "source": [
    "plt.figure(figsize=(8,5))\n",
    "plt.plot(interval_mean,accum_freq,'o-r')"
   ]
  },
  {
   "cell_type": "code",
   "execution_count": 19,
   "id": "1fa162d3",
   "metadata": {},
   "outputs": [
    {
     "data": {
      "text/plain": [
       "(array([ 2.,  1.,  0.,  4.,  6., 10., 17., 31., 21., 15., 10.,  7.,  2.]),\n",
       " array([15. , 15.1, 15.2, 15.3, 15.4, 15.5, 15.6, 15.7, 15.8, 15.9, 16. ,\n",
       "        16.1, 16.2, 16.3]),\n",
       " <BarContainer object of 13 artists>)"
      ]
     },
     "execution_count": 19,
     "metadata": {},
     "output_type": "execute_result"
    },
    {
     "data": {
      "image/png": "[encoded data removed]",
      "text/plain": [
       "<Figure size 640x480 with 1 Axes>"
      ]
     },
     "metadata": {},
     "output_type": "display_data"
    }
   ],
   "source": [
    "#gist freq\n",
    "ax_x=np.arange(15.0,16.4,0.1)\n",
    "fig = plt.figure()\n",
    "ax = fig.add_subplot (111)\n",
    "ax.hist (df['X'],ax_x, edgecolor='black')"
   ]
  },
  {
   "cell_type": "code",
   "execution_count": 20,
   "id": "cb8af0d7",
   "metadata": {},
   "outputs": [
    {
     "data": {
      "text/plain": [
       "0.05266910533821076"
      ]
     },
     "execution_count": 20,
     "metadata": {},
     "output_type": "execute_result"
    }
   ],
   "source": [
    "#disp \n",
    "statistics.pvariance(df['X'])"
   ]
  },
  {
   "cell_type": "code",
   "execution_count": 69,
   "id": "554cefb8",
   "metadata": {},
   "outputs": [
    {
     "data": {
      "text/plain": [
       "[15.05,\n",
       " 15.149999999999999,\n",
       " 15.25,\n",
       " 15.350000000000001,\n",
       " 15.45,\n",
       " 15.55,\n",
       " 15.649999999999999,\n",
       " 15.75,\n",
       " 15.850000000000001,\n",
       " 15.95,\n",
       " 16.05,\n",
       " 16.15,\n",
       " 16.25]"
      ]
     },
     "execution_count": 69,
     "metadata": {},
     "output_type": "execute_result"
    }
   ],
   "source": [
    "x=interval_mean\n",
    "res=[(1/(math.sqrt(6.28)*0.22))*math.exp((-(x-15.7)**2/(2*0.22**2))) for x in df['X']]\n",
    "mean=statistics.mean(interval_mean)\n",
    "interval_mean"
   ]
  },
  {
   "cell_type": "code",
   "execution_count": 70,
   "id": "3f81ef2a",
   "metadata": {},
   "outputs": [
    {
     "data": {
      "text/plain": [
       "[20.0,\n",
       " 10.0,\n",
       " 30.0,\n",
       " 40.0,\n",
       " 60.0,\n",
       " 100.0,\n",
       " 170.0,\n",
       " 310.0,\n",
       " 210.0,\n",
       " 150.0,\n",
       " 100.0,\n",
       " 70.0,\n",
       " 30.0]"
      ]
     },
     "execution_count": 70,
     "metadata": {},
     "output_type": "execute_result"
    }
   ],
   "source": [
    "r=[x/0.1 for x in l]\n",
    "r"
   ]
  },
  {
   "cell_type": "markdown",
   "id": "2b2ad0ae",
   "metadata": {},
   "source": [
    "# 4 пункт"
   ]
  },
  {
   "cell_type": "code",
   "execution_count": 23,
   "id": "3968e676",
   "metadata": {},
   "outputs": [
    {
     "data": {
      "text/plain": [
       "[<matplotlib.lines.Line2D at 0x1d5b959fb20>]"
      ]
     },
     "execution_count": 23,
     "metadata": {},
     "output_type": "execute_result"
    },
    {
     "data": {
      "image/png": "[encoded data removed]",
      "text/plain": [
       "<Figure size 640x480 with 1 Axes>"
      ]
     },
     "metadata": {},
     "output_type": "display_data"
    }
   ],
   "source": [
    "otn=[0.015,0.007,0,0.031,0.047,0.078,0.133,0.244,0.165,0.118,0.078,0.055,0.023]\n",
    "plt.plot(interval_mean,otn )"
   ]
  },
  {
   "cell_type": "code",
   "execution_count": 24,
   "id": "c6a5b759",
   "metadata": {},
   "outputs": [
    {
     "name": "stderr",
     "output_type": "stream",
     "text": [
      "C:\\Users\\Wdtum\\anaconda3\\lib\\site-packages\\seaborn\\distributions.py:2619: FutureWarning: `distplot` is a deprecated function and will be removed in a future version. Please adapt your code to use either `displot` (a figure-level function with similar flexibility) or `histplot` (an axes-level function for histograms).\n",
      "  warnings.warn(msg, FutureWarning)\n"
     ]
    },
    {
     "data": {
      "image/png": "[encoded data removed]",
      "text/plain": [
       "<Figure size 640x480 with 1 Axes>"
      ]
     },
     "metadata": {},
     "output_type": "display_data"
    }
   ],
   "source": [
    "import scipy.stats as stats\n",
    "import seaborn as sns\n",
    "import matplotlib.pyplot as plt\n",
    " \n",
    " \n",
    "\n",
    "#data =stats.norm(scale=1, loc=0).rvs(1000)\n",
    " \n",
    "# plotting a histogram\n",
    "ax = sns.distplot(otn,\n",
    "                  bins=40,\n",
    "                   \n",
    "                  kde=True,\n",
    "                  color='red',\n",
    "                  hist_kws={\"linewidth\": 10,'alpha':1})\n",
    "ax.set(xlabel='Normal Distribution', ylabel='Frequency')\n",
    " \n",
    "plt.show()"
   ]
  },
  {
   "cell_type": "code",
   "execution_count": 47,
   "id": "9c89bab5",
   "metadata": {},
   "outputs": [
    {
     "name": "stdout",
     "output_type": "stream",
     "text": [
      "[15.  15.1 15.2 15.3 15.4 15.5 15.6 15.7 15.8 15.9 16.  16.1 16.2 16.3]\n",
      "[20.0, 10.0, 0.0, 40.0, 60.0, 100.0, 170.0, 310.0, 210.0, 150.0, 100.0, 70.0, 30.0]\n"
     ]
    }
   ],
   "source": [
    "print(ax_x)\n",
    "print(r)"
   ]
  },
  {
   "cell_type": "code",
   "execution_count": 64,
   "id": "0fc40eb4",
   "metadata": {},
   "outputs": [
    {
     "data": {
      "text/plain": [
       "(array([ 2.,  1.,  0.,  4.,  6., 10., 17., 31., 21., 15., 10.,  7.,  2.]),\n",
       " array([15. , 15.1, 15.2, 15.3, 15.4, 15.5, 15.6, 15.7, 15.8, 15.9, 16. ,\n",
       "        16.1, 16.2, 16.3]),\n",
       " <BarContainer object of 13 artists>)"
      ]
     },
     "execution_count": 64,
     "metadata": {},
     "output_type": "execute_result"
    },
    {
     "data": {
      "image/png": "[encoded data removed]",
      "text/plain": [
       "<Figure size 640x480 with 1 Axes>"
      ]
     },
     "metadata": {},
     "output_type": "display_data"
    }
   ],
   "source": [
    "#плотность частоты\n",
    "le=l\n",
    "le[2]=3\n",
    "#plt.plot(  interval_mean,l)\n",
    "plt.hist(df['X'],ax_x)"
   ]
  },
  {
   "cell_type": "code",
   "execution_count": 85,
   "id": "c2c3affb",
   "metadata": {},
   "outputs": [
    {
     "data": {
      "text/plain": [
       "(array([ 1.,  0.,  4.,  6., 10., 17., 31., 21., 15., 10.,  7.,  2.]),\n",
       " array([15.05, 15.15, 15.25, 15.35, 15.45, 15.55, 15.65, 15.75, 15.85,\n",
       "        15.95, 16.05, 16.15, 16.25]),\n",
       " <BarContainer object of 12 artists>)"
      ]
     },
     "execution_count": 85,
     "metadata": {},
     "output_type": "execute_result"
    },
    {
     "data": {
      "image/png": "[encoded data removed]",
      "text/plain": [
       "<Figure size 640x480 with 1 Axes>"
      ]
     },
     "metadata": {},
     "output_type": "display_data"
    }
   ],
   "source": [
    "\n",
    "plt.plot(  interval_mean,l)\n",
    "plt.hist(df['X'],interval_mean)\n"
   ]
  },
  {
   "cell_type": "code",
   "execution_count": 26,
   "id": "e1bd327f",
   "metadata": {},
   "outputs": [
    {
     "data": {
      "text/plain": [
       "[20.0,\n",
       " 10.0,\n",
       " 30.0,\n",
       " 40.0,\n",
       " 60.0,\n",
       " 100.0,\n",
       " 170.0,\n",
       " 310.0,\n",
       " 210.0,\n",
       " 150.0,\n",
       " 100.0,\n",
       " 70.0,\n",
       " 30.0]"
      ]
     },
     "execution_count": 26,
     "metadata": {},
     "output_type": "execute_result"
    }
   ],
   "source": [
    "hm=[x/0.1 for x in l]\n",
    "hm"
   ]
  },
  {
   "cell_type": "code",
   "execution_count": 27,
   "id": "4ffb2262",
   "metadata": {},
   "outputs": [
    {
     "name": "stdout",
     "output_type": "stream",
     "text": [
      "[-7.0, -6.0, -5.0, -4.0, -3.0, -2.0, -1.0, -0.0, 1.0, 2.0, 3.0, 4.0, 5.0, 6.0]\n",
      "[15.  15.1 15.2 15.3 15.4 15.5 15.6 15.7 15.8 15.9 16.  16.1 16.2 16.3]\n"
     ]
    }
   ],
   "source": [
    "#метод произведений\n",
    "um=[]\n",
    "um2=[]\n",
    "um_1=[]\n",
    "C=15.7\n",
    "k=0.1\n",
    "\n",
    "u_res=[round(((x-C)/k),3) for x in ax_x ]\n",
    "#u_res=round(u_res,2)\n",
    "print(u_res)\n",
    "print(ax_x)"
   ]
  },
  {
   "cell_type": "code",
   "execution_count": 28,
   "id": "de9876ab",
   "metadata": {},
   "outputs": [],
   "source": [
    "for m,u in zip(l,u_res):\n",
    "    um.append(m*u)\n",
    "    um2.append(m*u**2)\n",
    "    um_1.append(m*(u+1)**2)\n",
    "    \n",
    "    "
   ]
  },
  {
   "cell_type": "code",
   "execution_count": 29,
   "id": "586b8cb8",
   "metadata": {},
   "outputs": [
    {
     "data": {
      "text/plain": [
       "[98.0, 36.0, 75.0, 64.0, 54.0, 40.0, 17.0, 0.0, 21.0, 60.0, 90.0, 112.0, 75.0]"
      ]
     },
     "execution_count": 29,
     "metadata": {},
     "output_type": "execute_result"
    }
   ],
   "source": [
    "um2"
   ]
  },
  {
   "cell_type": "code",
   "execution_count": 30,
   "id": "b48c3284",
   "metadata": {},
   "outputs": [
    {
     "name": "stdout",
     "output_type": "stream",
     "text": [
      "908.0\n",
      "908.0\n"
     ]
    }
   ],
   "source": [
    "# chek \n",
    "print(sum(um2)+2*sum(um)+sum(l))\n",
    "print(sum(um_1))"
   ]
  },
  {
   "cell_type": "code",
   "execution_count": 31,
   "id": "b057a781",
   "metadata": {},
   "outputs": [
    {
     "name": "stdout",
     "output_type": "stream",
     "text": [
      "0.13846153846153847\n",
      "5.707692307692308\n",
      "15.713846153846154\n",
      "0.05688520710059173\n",
      "0.2385061992917411\n",
      "1.5178091789664356 %\n"
     ]
    }
   ],
   "source": [
    "# 8 пункт произведения 6 пункт\n",
    "MU=sum(um)/sum(l)\n",
    "MU2=sum(um2)/sum(l)\n",
    "MX=0.1*MU+15.7\n",
    "DX=0.1**2*(MU2-MU**2)\n",
    "V=math.sqrt(DX)*100/MX\n",
    "print(MU)\n",
    "print(MU2)\n",
    "print(MX)\n",
    "print(DX)\n",
    "print(math.sqrt(DX))\n",
    "print(V,'%')"
   ]
  },
  {
   "cell_type": "code",
   "execution_count": 33,
   "id": "6f4db029",
   "metadata": {},
   "outputs": [
    {
     "data": {
      "text/plain": [
       "[-2.818181818181823,\n",
       " -0.7727272727272724,\n",
       " -0.31818181818181945,\n",
       " 0.13636363636363347,\n",
       " 0.5909090909090864,\n",
       " 1.0454545454545394,\n",
       " 1.5000000000000002,\n",
       " 2.6363636363636367]"
      ]
     },
     "execution_count": 33,
     "metadata": {},
     "output_type": "execute_result"
    }
   ],
   "source": [
    "#teoretical freq before\n",
    "ar=[15.1,15.55,15.65,15.75,15.85,15.95,16.05,16.3]\n",
    "sred=15.72\n",
    "sigma=0.22\n",
    "res=[(x-sred)/sigma for x in ar]\n",
    "res"
   ]
  },
  {
   "cell_type": "code",
   "execution_count": 34,
   "id": "b38ef86f",
   "metadata": {},
   "outputs": [
    {
     "name": "stdout",
     "output_type": "stream",
     "text": [
      "[23.063200000000002, 4.953, 20.066, 23.495, 19.304, 17.1577, 10.4648, 7.9629]\n"
     ]
    }
   ],
   "source": [
    "#teoretical freq\n",
    "Pi=[0.1816,0.039,0.158,0.185,0.152,0.1351,0.0824,0.0627]\n",
    "n=127\n",
    "teoretical_freq=[n*x for x in Pi]\n",
    "print(teoretical_freq)"
   ]
  },
  {
   "cell_type": "code",
   "execution_count": 229,
   "id": "0c91ad85",
   "metadata": {},
   "outputs": [
    {
     "data": {
      "text/plain": [
       "[13, 10, 17, 31, 21, 15, 10, 10]"
      ]
     },
     "execution_count": 229,
     "metadata": {},
     "output_type": "execute_result"
    }
   ],
   "source": [
    "l"
   ]
  },
  {
   "cell_type": "code",
   "execution_count": 35,
   "id": "f54991d8",
   "metadata": {},
   "outputs": [
    {
     "name": "stdout",
     "output_type": "stream",
     "text": [
      "[7.789845710769233, 2.5472208999999997, 0.5529621176470584, 1.81693629032258, 0.13697219047619072, 0.31037795266666623, 0.021603904000000028, 0.41497764099999984]\n"
     ]
    }
   ],
   "source": [
    "hi2=[]\n",
    "l=[13,10,17,31,21,15,10,10]\n",
    "for i in range(len(l)):\n",
    "    if l[i]!=0:\n",
    "        hi2.append((float(l[i])-teoretical_freq[i])**2/float(l[i]))\n",
    "print(hi2)"
   ]
  },
  {
   "cell_type": "code",
   "execution_count": 36,
   "id": "0c989827",
   "metadata": {},
   "outputs": [
    {
     "data": {
      "text/plain": [
       "13.59089670688173"
      ]
     },
     "execution_count": 36,
     "metadata": {},
     "output_type": "execute_result"
    }
   ],
   "source": [
    "sum(hi2)"
   ]
  },
  {
   "cell_type": "code",
   "execution_count": null,
   "id": "d8f7e76b",
   "metadata": {},
   "outputs": [],
   "source": []
  }
 ],
 "metadata": {
  "kernelspec": {
   "display_name": "Python 3 (ipykernel)",
   "language": "python",
   "name": "python3"
  },
  "language_info": {
   "codemirror_mode": {
    "name": "ipython",
    "version": 3
   },
   "file_extension": ".py",
   "mimetype": "text/x-python",
   "name": "python",
   "nbconvert_exporter": "python",
   "pygments_lexer": "ipython3",
   "version": "3.9.13"
  }
 },
 "nbformat": 4,
 "nbformat_minor": 5
}
